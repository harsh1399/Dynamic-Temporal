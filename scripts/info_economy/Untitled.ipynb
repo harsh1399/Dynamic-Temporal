{
 "cells": [
  {
   "cell_type": "code",
   "execution_count": 2,
   "id": "c03af6e7",
   "metadata": {},
   "outputs": [
    {
     "name": "stdout",
     "output_type": "stream",
     "text": [
      "Collecting wptools\n",
      "  Using cached wptools-0.4.17-py2.py3-none-any.whl (38 kB)\n",
      "Collecting html2text\n",
      "  Using cached html2text-2020.1.16-py3-none-any.whl (32 kB)\n",
      "Requirement already satisfied: certifi in c:\\users\\hp\\anaconda3\\lib\\site-packages (from wptools) (2022.9.24)\n",
      "Requirement already satisfied: pycurl in c:\\users\\hp\\anaconda3\\lib\\site-packages (from wptools) (7.43.0.6)\n",
      "Requirement already satisfied: lxml in c:\\users\\hp\\appdata\\roaming\\python\\python38\\site-packages (from wptools) (4.9.2)\n",
      "Installing collected packages: html2text, wptools\n",
      "Successfully installed html2text-2020.1.16 wptools-0.4.17\n",
      "Note: you may need to restart the kernel to use updated packages.\n"
     ]
    }
   ],
   "source": [
    "pip install wptools"
   ]
  },
  {
   "cell_type": "code",
   "execution_count": 1,
   "id": "f1124a4d",
   "metadata": {},
   "outputs": [],
   "source": [
    "import wptools\n",
    "page = wptools.page('Economy_of_Singapore')"
   ]
  },
  {
   "cell_type": "code",
   "execution_count": 2,
   "id": "aaa0d6ed",
   "metadata": {},
   "outputs": [
    {
     "name": "stderr",
     "output_type": "stream",
     "text": [
      "en.wikipedia.org (query) Economy_of_Singapore\n",
      "en.wikipedia.org (query) Economy of Singapore (&plcontinue=57011|...\n",
      "en.wikipedia.org (imageinfo) File:Skyline of the Central Business...\n",
      "Economy of Singapore (en) data\n",
      "{\n",
      "  WARNINGS: <dict(1)> extracts\n",
      "  assessments: <dict(4)> Business, Singapore, Economics, Trade\n",
      "  description: economy of the country\n",
      "  extext: <str(5095)> The **economy of Singapore** is a highly dev...\n",
      "  extract: <str(5323)> <p class=\"mw-empty-elt\"></p><p class=\"mw-em...\n",
      "  image: <list(4)> {'kind': 'query-pageimage', 'file': 'File:Skyli...\n",
      "  label: economy of Singapore\n",
      "  length: 122,485\n",
      "  links: <list(472)> 1000000000 (number), 1997 Asian financial cri...\n",
      "  modified: <dict(1)> page\n",
      "  pageid: 57011\n",
      "  random: Bogale Walelu Secondary and Preparatory School\n",
      "  redirects: <list(21)> {'pageid': 5635073, 'ns': 0, 'title': 'Ban...\n",
      "  requests: <list(3)> query, query, imageinfo\n",
      "  title: Economy of Singapore\n",
      "  url: https://en.wikipedia.org/wiki/Economy_of_Singapore\n",
      "  url_raw: https://en.wikipedia.org/wiki/Economy_of_Singapore?acti...\n",
      "  watchers: 116\n",
      "  wikibase: Q1773907\n",
      "  wikidata_url: https://www.wikidata.org/wiki/Q1773907\n",
      "}\n"
     ]
    },
    {
     "data": {
      "text/plain": [
       "<wptools.page.WPToolsPage at 0x1a21c97c8e0>"
      ]
     },
     "execution_count": 2,
     "metadata": {},
     "output_type": "execute_result"
    }
   ],
   "source": [
    "page.get_query()"
   ]
  },
  {
   "cell_type": "code",
   "execution_count": 3,
   "id": "925c836d",
   "metadata": {},
   "outputs": [
    {
     "name": "stderr",
     "output_type": "stream",
     "text": [
      "www.wikidata.org (wikidata) Q1773907\n",
      "www.wikidata.org (labels) Q8597123|P7305|P2219|P2132|Q334|P373|P3...\n",
      "Economy of Singapore (en) data\n",
      "{\n",
      "  WARNINGS: <dict(1)> extracts\n",
      "  assessments: <dict(4)> Business, Singapore, Economics, Trade\n",
      "  claims: <dict(18)> P373, P910, P31, P1279, P3417, P276, P17, P21...\n",
      "  description: economy of the country\n",
      "  extext: <str(5095)> The **economy of Singapore** is a highly dev...\n",
      "  extract: <str(5323)> <p class=\"mw-empty-elt\"></p><p class=\"mw-em...\n",
      "  image: <list(4)> {'kind': 'query-pageimage', 'file': 'File:Skyli...\n",
      "  label: economy of Singapore\n",
      "  labels: <dict(24)> Q8597123, P7305, P2219, P2132, Q334, P373, P3...\n",
      "  length: 122,485\n",
      "  links: <list(472)> 1000000000 (number), 1997 Asian financial cri...\n",
      "  modified: <dict(2)> page, wikidata\n",
      "  pageid: 57011\n",
      "  random: Bogale Walelu Secondary and Preparatory School\n",
      "  redirects: <list(21)> {'pageid': 5635073, 'ns': 0, 'title': 'Ban...\n",
      "  requests: <list(5)> query, query, imageinfo, wikidata, labels\n",
      "  title: Economy_of_Singapore\n",
      "  url: https://en.wikipedia.org/wiki/Economy_of_Singapore\n",
      "  url_raw: https://en.wikipedia.org/wiki/Economy_of_Singapore?acti...\n",
      "  watchers: 116\n",
      "  what: national economy\n",
      "  wikibase: Q1773907\n",
      "  wikidata: <dict(18)> Commons category (P373), topic's main categ...\n",
      "  wikidata_pageid: 1705908\n",
      "  wikidata_url: https://www.wikidata.org/wiki/Q1773907\n",
      "}\n"
     ]
    },
    {
     "data": {
      "text/plain": [
       "<wptools.page.WPToolsPage at 0x1a21c97c8e0>"
      ]
     },
     "execution_count": 3,
     "metadata": {},
     "output_type": "execute_result"
    }
   ],
   "source": [
    "page.get_wikidata()"
   ]
  },
  {
   "cell_type": "code",
   "execution_count": 4,
   "id": "cd67f91b",
   "metadata": {},
   "outputs": [
    {
     "name": "stderr",
     "output_type": "stream",
     "text": [
      "en.wikipedia.org (parse) 57011\n",
      "en.wikipedia.org (imageinfo) File:Skyline of the Central Business...\n",
      "Economy of Singapore (en) data\n",
      "{\n",
      "  WARNINGS: <dict(1)> extracts\n",
      "  assessments: <dict(4)> Business, Singapore, Economics, Trade\n",
      "  claims: <dict(18)> P373, P910, P31, P1279, P3417, P276, P17, P21...\n",
      "  description: economy of the country\n",
      "  extext: <str(5095)> The **economy of Singapore** is a highly dev...\n",
      "  extract: <str(5323)> <p class=\"mw-empty-elt\"></p><p class=\"mw-em...\n",
      "  image: <list(5)> {'kind': 'query-pageimage', 'file': 'File:Skyli...\n",
      "  infobox: <dict(41)> country, image, image_size, group, populatio...\n",
      "  iwlinks: <list(1)> https://commons.wikimedia.org/wiki/Category:E...\n",
      "  label: economy of Singapore\n",
      "  labels: <dict(24)> Q8597123, P7305, P2219, P2132, Q334, P373, P3...\n",
      "  length: 122,485\n",
      "  links: <list(472)> 1000000000 (number), 1997 Asian financial cri...\n",
      "  modified: <dict(2)> page, wikidata\n",
      "  pageid: 57011\n",
      "  parsetree: <str(156620)> <root><template><title>short descriptio...\n",
      "  random: Bogale Walelu Secondary and Preparatory School\n",
      "  redirects: <list(21)> {'pageid': 5635073, 'ns': 0, 'title': 'Ban...\n",
      "  requests: <list(7)> query, query, imageinfo, wikidata, labels, p...\n",
      "  title: Economy of Singapore\n",
      "  url: https://en.wikipedia.org/wiki/Economy_of_Singapore\n",
      "  url_raw: https://en.wikipedia.org/wiki/Economy_of_Singapore?acti...\n",
      "  watchers: 116\n",
      "  what: national economy\n",
      "  wikibase: Q1773907\n",
      "  wikidata: <dict(18)> Commons category (P373), topic's main categ...\n",
      "  wikidata_pageid: 1705908\n",
      "  wikidata_url: https://www.wikidata.org/wiki/Q1773907\n",
      "  wikitext: <str(121251)> {{short description|National economy of ...\n",
      "}\n"
     ]
    }
   ],
   "source": [
    "p1 = page.get_parse()"
   ]
  },
  {
   "cell_type": "code",
   "execution_count": 5,
   "id": "5b1a00d9",
   "metadata": {},
   "outputs": [
    {
     "data": {
      "text/plain": [
       "{'country': 'Singapore',\n",
       " 'image': 'Skyline of the Central Business District of Singapore with Esplanade Bridge in the evening.jpg',\n",
       " 'image_size': '310px',\n",
       " 'group': '{{plainlist|\\n*[[Developed country|Developed/Advanced]]|ref|{{cite web |url= https://www.imf.org/external/pubs/ft/weo/2019/01/weodata/weoselco.aspx?g=110&sg=All+countries+%2f+Advanced+economies |title= World Economic Outlook Database, April 2019 |publisher= [[International Monetary Fund]] |website= IMF.org |access-date= 29 September 2019}}|</ref>|\\n*[[World Bank high-income economy|High-income economy]]|ref|{{cite web |url= https://datahelpdesk.worldbank.org/knowledgebase/articles/906519-world-bank-country-and-lending-groups |title= World Bank Country and Lending Groups |publisher= [[World Bank]] |website= datahelpdesk.worldbank.org |access-date= 29 September 2019}}|</ref>|}} *[[World Bank high-income economy|High-income economy]]',\n",
       " 'population': '{{increase}} 5,453,566 (2021)',\n",
       " 'caption': \"Skyline of Singapore's [[Downtown Core]]\",\n",
       " 'currency': '[[Singapore dollar]] (SGD/S$)',\n",
       " 'year': '1 April&nbsp;– 31 March',\n",
       " 'organs': '[[World Trade Organization|WTO]], [[Asia-Pacific Economic Cooperation|APEC]], [[Comprehensive and Progressive Agreement for Trans-Pacific Partnership|CPTPP]], [[Indian Ocean Rim Association for Regional Cooperation|IOR-ARC]], [[Regional Comprehensive Economic Partnership|RCEP]], [[Association of Southeast Asian Nations|ASEAN]] and others',\n",
       " 'gdp': '{{plainlist|\\n*|increase|  $447 billion ([[GDP (nominal)|nominal]]; 2023 est.)|ref| name=\"IMFWEODE\"|{{cite web |url=https://www.imf.org/en/Publications/WEO/weo-database/2022/October/weo-report?c=576,&s=NGDPD,PPPGDP,NGDPDPC,PPPPC,&sy=2022&ey=2027&ssm=0&scsm=1&scc=0&ssd=1&ssc=0&sic=0&sort=country&ds=.&br=1 |title=World Economic Outlook Database, October 2022 |publisher=[[International Monetary Fund]] |website=IMF.org |access-date=April 10, 2023}}|</ref>| \\n*|increase| $742 billion ([[Purchasing power parity|PPP]]; 2023 est.)|ref| name=\"IMFWEODE\"|}} {{increase}} $447 billion ([[GDP (nominal)|nominal]]; 2023 est.) * {{increase}} $742 billion ([[Purchasing power parity|PPP]]; 2023 est.)',\n",
       " 'gdp rank': '{{plainlist|\\n*[[List of countries by GDP (nominal)|30th (nominal; 2023)]]\\n*[[List of countries by GDP (PPP)|38th (PPP; 2022)]]}}',\n",
       " 'growth': '{{plainlist|   \\n* |Increase| 7.6%&nbsp;|abbr|(2021)|2021|ref| name=\"Global Economic Prospects\"|{{cite web |title=WORLD ECONOMIC OUTLOOK 2022 OCT Countering the Cost-of-Living Crisis|url=https://www.imf.org/-/media/Files/Publications/WEO/2022/October/English/text.ashx |website=www.imf.org  |publisher=[[International Monetary Fund]] |page=43|access-date=11 October 2022}}|</ref>|\\n* |Increase| 3.0%&nbsp;|abbr|(2022f)|2022 forecast|ref| name=\"Global Economic Prospects\"|\\n* |Increase| 2.3%&nbsp;|abbr|(2023f)|2023 forecast|ref| name=\"Global Economic Prospects\"|}} {{Increase}} 7.6%&nbsp; {{abbr|(2021)|2021}} * {{Increase}} 3.0%&nbsp; {{abbr|(2022f)|2022 forecast}} * {{Increase}} 2.3%&nbsp; {{abbr|(2023f)|2023 forecast}}',\n",
       " 'per capita': '{{plainlist| \\n*|increase| $84,500 (nominal; 2023 est.)|ref| name=\"IMFWEODE\"|\\n*|increase| $140,280 (PPP; 2023 est.)|ref| name=\"IMFWEODE\"|}} {{increase}} $84,500 (nominal; 2023 est.) * {{increase}} $140,280 (PPP; 2023 est.)',\n",
       " 'per capita rank': '{{plainlist|\\n*[[List of countries by GDP per capita (nominal)|6th (nominal; 2022)]]\\n*[[List of countries by GDP per capita (PPP)|2nd (PPP; 2022)]]}}',\n",
       " 'sectors': '{{plainlist|\\n*[[Primary sector of the economy|agriculture]]: 0.5%\\n*[[Secondary sector of the economy|industry]]: 24.8%\\n*[[Tertiary sector of the economy|services]]: 75.2%\\n*(2017 est.)|ref| name=\"CIAWFSN\"}}',\n",
       " 'inflation': '5.5% (Jan 2023)',\n",
       " 'poverty': 'N/A',\n",
       " 'gini': '{{steady}} 45.9 {{color|darkorange|medium}} (2017) {{efn|Before taxes and social transfers.}}',\n",
       " 'hdi': '{{plainlist|\\n*|increase| 0.939 |color|darkgreen|very high| (2021)|ref|{{cite web |url= http://hdr.undp.org/en/indicators/137506 |title= Human Development Index (HDI) |publisher= [[Human Development Report|HDRO (Human Development Report Office)]] [[United Nations Development Programme]] |website= hdr.undp.org |access-date=15 October 2022}}|</ref>| ([[List of countries by Human Development Index|12th]])\\n*|increase| 0.817 |color|darkgreen|very high| [[List of countries by inequality-adjusted HDI|IHDI (27th)]] (2021)|ref| name=\"IHDI\"|{{cite web |title= Inequality-adjusted HDI (IHDI)  |url= http://hdr.undp.org/en/indicators/138806 |website= hdr.undp.org |publisher= [[United Nations Development Programme|UNDP]] |access-date=15 October 2022}}|</ref>}} {{increase}} 0.939 {{color|darkgreen|very high}} (2021) ([[List of countries by Human Development Index|12th]])\\n* {{increase}} 0.817 {{color|darkgreen|very high}} [[List of countries by inequality-adjusted HDI|IHDI (27th)]] (2021)',\n",
       " 'labour': '{{plainlist|\\n*|increase| 3,843,513 (2021)|ref| name=IMFEMP|\\n*|increase| 65.1% employment rate (2018)|ref|{{cite web |url= https://data.worldbank.org/indicator/SL.EMP.TOTL.SP.NE.ZS?locations=SG&name_desc=false |title= Employment to population ratio, 15+, total (%) (national estimate) – Singapore |publisher= [[World Bank]] |website= data.worldbank.org |access-date= 6 October 2019}}|</ref>}} {{increase}} 3,843,513 (2021) * {{increase}} 65.1% employment rate (2018)',\n",
       " 'occupations': '{{plainlist|\\n*[[Primary sector of the economy|agriculture]]: 0.7%\\n*[[Secondary sector of the economy|industry]]: 25.6%\\n*[[Tertiary sector of the economy|services]]: 73.7%\\n*(2017 est.)|ref| name=\"CIAWFSN\"|\\n*excludes non-residents}} *excludes non-residents',\n",
       " 'unemployment': '{{plainlist|\\n*|decreasePositive| 2.6% (2021 est.)|ref| name=IMFEMP|{{cite web|title= Summary Table: Unemployment|url= https://www.imf.org/en/Publications/WEO/weo-database/2020/October/weo-report?c=576,&s=LUR,LE,&sy=2018&ey=2025&ssm=0&scsm=1&scc=0&ssd=1&ssc=0&sic=0&sort=country&ds=.&br=1|publisher=IMF|access-date= 12 February 2021}}|</ref>}} {{decreasePositive}} 2.6% (2021 est.)',\n",
       " 'edbr': '{{steady}} [[Ease of doing business index#Ranking|2nd (very easy, 2020)]]',\n",
       " 'industries': '{{plainlist |\\n* [[Electronics]]  \\n* [[chemicals]]  \\n* [[financial services]] \\n* [[Oil well|oil-drilling equipment]]  \\n* [[petroleum refining]]  \\n* [[Biomedicine|biomedical products]]  \\n* [[scientific instruments]] \\n* telecommunications equipment \\n* rubber  \\n* food and [[beverages]]  \\n* [[ship repair]]  \\n* [[offshore construction]]  \\n* [[life sciences]]  \\n* [[re-exportation]]}}',\n",
       " 'exports': '{{increase}} US$942&nbsp;billion (2022)',\n",
       " 'export-goods': '{{Unbulleted list | [[Machinery]] and [[Tools|equipment]]| Electronics and telecommunications| [[Pharmaceuticals]] and other chemicals| [[Petroleum product|Refined petroleum products]]|Chemical products}}',\n",
       " 'export-partners': '{{Tree list}} * {{flag|United States}} 12.52%\\n* {{nowrap|flag|China| 12.08%}} ** {{flag|China}} 12.08% {{flag|Hong Kong}} 4.56%\\n* {{flag|Japan}} 10.34%\\n* {{flag|Australia}} 8.73%\\n*(2021) {{Tree list/end}}',\n",
       " 'imports': '{{Increase}} US$870&nbsp;billion (2022)',\n",
       " 'import-goods': '{{Unbulleted list| [[Machinery]] and [[Tools|equipment]]| [[Mineral fuels]]| [[Chemicals]]| [[Foodstuff]]s| [[Consumer goods]]}}',\n",
       " 'import-partners': '{{Tree list}} * {{flag|United States}} 22.43%\\n* {{nowrap|flag|China| 10.65%}} ** {{flag|China}} 10.65% {{flag|Hong Kong}} 4.53%\\n* {{flag|Japan}} 4.71%\\n* {{flag|United Kingdom}} 3.59%\\n*(2021) {{Tree list/end}}',\n",
       " 'FDI': '{{plainlist|\\n*|increase| $1.285&nbsp;trillion (31 December 2017 est.)|ref| name=\"CIAWFSN\"|\\n*|increase| Abroad: $841.4 billion (31 December 2017 est.)|ref| name=\"CIAWFSN\"}} {{increase}} $1.285&nbsp;trillion (31 December 2017 est.) * {{increase}} Abroad: $841.4 billion (31 December 2017 est.)',\n",
       " 'current account': '{{increase}} $60.99&nbsp;billion (2017 est.)',\n",
       " 'gross external debt': \"{{increaseNegative}} $566.1&nbsp;billion (31 December 2017 est.) {{efn|Singapore's public debt consists largely of Singapore Government Securities (SGS) issued to assist the Central Provident Fund (CPF), which administers Singapore's defined contribution pension fund; special issues of SGS are held by the CPF, and are non-tradable; the government has not borrowed to finance deficit expenditures since the 1980s; Singapore has no external public debt.}}\",\n",
       " 'NIIP': '[[Singapore dollar|S$]]738.811&nbsp;billion (Q1 2015)',\n",
       " 'debt': \"167.8% of GDP (2022 est.) {{efn|Singapore's public debt consists largely of Singapore Government Securities (SGS) issued to assist the Central Provident Fund (CPF), which administers Singapore's defined contribution pension fund; special issues of SGS are held by the CPF, and are non-tradable; the government has not borrowed to finance deficit expenditures since the 1980s; Singapore has no external public debt.}}\",\n",
       " 'revenue': '[[Singapore dollar|S$]]69.45&nbsp;billion (2017 est.)',\n",
       " 'expenses': '[[Singapore dollar|S$]]75.07&nbsp;billion (2017 est.)',\n",
       " 'reserves': '{{decrease}} [[United States dollar|US$]]291.274&nbsp;billion (November 2022)',\n",
       " 'credit': \"{{plainlist|\\n*[[Standard & Poor's]]:|ref|{{cite web |title=Sovereigns rating list |publisher=Standard & Poor's |url=http://www.standardandpoors.com/ratings/sovereigns/ratings-list/en/eu/?subSectorCode=39 |access-date=26 May 2011 |archive-url= https://web.archive.org/web/20110928234500/http://www.standardandpoors.com/ratings/sovereigns/ratings-list/en/eu/?subSectorCode=39 |archive-date= 28 September 2011 |url-status= live }}|</ref>|\\n*AAA (Domestic)\\n*AAA (Foreign)\\n*AAA (T&C Assessment)\\n*Outlook: Stable|ref| name=guardian|{{cite news |title= How Fitch, Moody's and S&P rate each country's credit rating |date= 15 April 2011 |first1= Simon |last1= Rogers |first2= Ami |last2= Sedghi |work= The Guardian |url= https://www.theguardian.com/news/datablog/2010/apr/30/credit-ratings-country-fitch-moodys-standard |access-date= 28 May 2011 |archive-url= https://web.archive.org/web/20130801105234/http://www.theguardian.com/news/datablog/2010/apr/30/credit-ratings-country-fitch-moodys-standard |archive-date= 1 August 2013 |url-status= live }}|</ref>|\\n*[[Moody's]]:|ref| name=guardian|\\n*Aaa\\n*Outlook: Stable\\n*[[Fitch Group|Fitch]]:|ref| name=guardian|\\n*AAA\\n*Outlook: Stable}} *AAA (Domestic)\\n*AAA (Foreign)\\n*AAA (T&C Assessment)\\n*Outlook: Stable *[[Moody's]]: *Aaa\\n*Outlook: Stable\\n*[[Fitch Group|Fitch]]: *AAA\\n*Outlook: Stable\",\n",
       " 'aid': 'N/A',\n",
       " 'cianame': 'singapore'}"
      ]
     },
     "execution_count": 5,
     "metadata": {},
     "output_type": "execute_result"
    }
   ],
   "source": [
    "info = p1.data['infobox']\n",
    "info"
   ]
  },
  {
   "cell_type": "code",
   "execution_count": 8,
   "id": "b1fd0416",
   "metadata": {},
   "outputs": [
    {
     "name": "stderr",
     "output_type": "stream",
     "text": [
      "en.wikipedia.org (parse) Economy_of_Singapore\n",
      "en.wikipedia.org (imageinfo) File:Skyline of the Central Business...\n",
      "Economy of Singapore (en) data\n",
      "{\n",
      "  image: <list(1)> {'kind': 'parse-image', 'file': 'File:Skyline o...\n",
      "  infobox: <dict(41)> country, image, image_size, group, populatio...\n",
      "  iwlinks: <list(1)> https://commons.wikimedia.org/wiki/Category:E...\n",
      "  pageid: 57011\n",
      "  parsetree: <str(156620)> <root><template><title>short descriptio...\n",
      "  requests: <list(2)> parse, imageinfo\n",
      "  title: Economy of Singapore\n",
      "  wikibase: Q1773907\n",
      "  wikidata_url: https://www.wikidata.org/wiki/Q1773907\n",
      "  wikitext: <str(121251)> {{short description|National economy of ...\n",
      "}\n"
     ]
    },
    {
     "data": {
      "text/plain": [
       "{'country': 'Singapore',\n",
       " 'image': 'Skyline of the Central Business District of Singapore with Esplanade Bridge in the evening.jpg',\n",
       " 'image_size': '310px',\n",
       " 'group': '{{plainlist|\\n*[[Developed country|Developed/Advanced]]|ref|{{cite web |url= https://www.imf.org/external/pubs/ft/weo/2019/01/weodata/weoselco.aspx?g=110&sg=All+countries+%2f+Advanced+economies |title= World Economic Outlook Database, April 2019 |publisher= [[International Monetary Fund]] |website= IMF.org |access-date= 29 September 2019}}|</ref>|\\n*[[World Bank high-income economy|High-income economy]]|ref|{{cite web |url= https://datahelpdesk.worldbank.org/knowledgebase/articles/906519-world-bank-country-and-lending-groups |title= World Bank Country and Lending Groups |publisher= [[World Bank]] |website= datahelpdesk.worldbank.org |access-date= 29 September 2019}}|</ref>|}} *[[World Bank high-income economy|High-income economy]]',\n",
       " 'population': '{{increase}} 5,453,566 (2021)',\n",
       " 'caption': \"Skyline of Singapore's [[Downtown Core]]\",\n",
       " 'currency': '[[Singapore dollar]] (SGD/S$)',\n",
       " 'year': '1 April&nbsp;– 31 March',\n",
       " 'organs': '[[World Trade Organization|WTO]], [[Asia-Pacific Economic Cooperation|APEC]], [[Comprehensive and Progressive Agreement for Trans-Pacific Partnership|CPTPP]], [[Indian Ocean Rim Association for Regional Cooperation|IOR-ARC]], [[Regional Comprehensive Economic Partnership|RCEP]], [[Association of Southeast Asian Nations|ASEAN]] and others',\n",
       " 'gdp': '{{plainlist|\\n*|increase|  $447 billion ([[GDP (nominal)|nominal]]; 2023 est.)|ref| name=\"IMFWEODE\"|{{cite web |url=https://www.imf.org/en/Publications/WEO/weo-database/2022/October/weo-report?c=576,&s=NGDPD,PPPGDP,NGDPDPC,PPPPC,&sy=2022&ey=2027&ssm=0&scsm=1&scc=0&ssd=1&ssc=0&sic=0&sort=country&ds=.&br=1 |title=World Economic Outlook Database, October 2022 |publisher=[[International Monetary Fund]] |website=IMF.org |access-date=April 10, 2023}}|</ref>| \\n*|increase| $742 billion ([[Purchasing power parity|PPP]]; 2023 est.)|ref| name=\"IMFWEODE\"|}} {{increase}} $447 billion ([[GDP (nominal)|nominal]]; 2023 est.) * {{increase}} $742 billion ([[Purchasing power parity|PPP]]; 2023 est.)',\n",
       " 'gdp rank': '{{plainlist|\\n*[[List of countries by GDP (nominal)|30th (nominal; 2023)]]\\n*[[List of countries by GDP (PPP)|38th (PPP; 2022)]]}}',\n",
       " 'growth': '{{plainlist|   \\n* |Increase| 7.6%&nbsp;|abbr|(2021)|2021|ref| name=\"Global Economic Prospects\"|{{cite web |title=WORLD ECONOMIC OUTLOOK 2022 OCT Countering the Cost-of-Living Crisis|url=https://www.imf.org/-/media/Files/Publications/WEO/2022/October/English/text.ashx |website=www.imf.org  |publisher=[[International Monetary Fund]] |page=43|access-date=11 October 2022}}|</ref>|\\n* |Increase| 3.0%&nbsp;|abbr|(2022f)|2022 forecast|ref| name=\"Global Economic Prospects\"|\\n* |Increase| 2.3%&nbsp;|abbr|(2023f)|2023 forecast|ref| name=\"Global Economic Prospects\"|}} {{Increase}} 7.6%&nbsp; {{abbr|(2021)|2021}} * {{Increase}} 3.0%&nbsp; {{abbr|(2022f)|2022 forecast}} * {{Increase}} 2.3%&nbsp; {{abbr|(2023f)|2023 forecast}}',\n",
       " 'per capita': '{{plainlist| \\n*|increase| $84,500 (nominal; 2023 est.)|ref| name=\"IMFWEODE\"|\\n*|increase| $140,280 (PPP; 2023 est.)|ref| name=\"IMFWEODE\"|}} {{increase}} $84,500 (nominal; 2023 est.) * {{increase}} $140,280 (PPP; 2023 est.)',\n",
       " 'per capita rank': '{{plainlist|\\n*[[List of countries by GDP per capita (nominal)|6th (nominal; 2022)]]\\n*[[List of countries by GDP per capita (PPP)|2nd (PPP; 2022)]]}}',\n",
       " 'sectors': '{{plainlist|\\n*[[Primary sector of the economy|agriculture]]: 0.5%\\n*[[Secondary sector of the economy|industry]]: 24.8%\\n*[[Tertiary sector of the economy|services]]: 75.2%\\n*(2017 est.)|ref| name=\"CIAWFSN\"}}',\n",
       " 'inflation': '5.5% (Jan 2023)',\n",
       " 'poverty': 'N/A',\n",
       " 'gini': '{{steady}} 45.9 {{color|darkorange|medium}} (2017) {{efn|Before taxes and social transfers.}}',\n",
       " 'hdi': '{{plainlist|\\n*|increase| 0.939 |color|darkgreen|very high| (2021)|ref|{{cite web |url= http://hdr.undp.org/en/indicators/137506 |title= Human Development Index (HDI) |publisher= [[Human Development Report|HDRO (Human Development Report Office)]] [[United Nations Development Programme]] |website= hdr.undp.org |access-date=15 October 2022}}|</ref>| ([[List of countries by Human Development Index|12th]])\\n*|increase| 0.817 |color|darkgreen|very high| [[List of countries by inequality-adjusted HDI|IHDI (27th)]] (2021)|ref| name=\"IHDI\"|{{cite web |title= Inequality-adjusted HDI (IHDI)  |url= http://hdr.undp.org/en/indicators/138806 |website= hdr.undp.org |publisher= [[United Nations Development Programme|UNDP]] |access-date=15 October 2022}}|</ref>}} {{increase}} 0.939 {{color|darkgreen|very high}} (2021) ([[List of countries by Human Development Index|12th]])\\n* {{increase}} 0.817 {{color|darkgreen|very high}} [[List of countries by inequality-adjusted HDI|IHDI (27th)]] (2021)',\n",
       " 'labour': '{{plainlist|\\n*|increase| 3,843,513 (2021)|ref| name=IMFEMP|\\n*|increase| 65.1% employment rate (2018)|ref|{{cite web |url= https://data.worldbank.org/indicator/SL.EMP.TOTL.SP.NE.ZS?locations=SG&name_desc=false |title= Employment to population ratio, 15+, total (%) (national estimate) – Singapore |publisher= [[World Bank]] |website= data.worldbank.org |access-date= 6 October 2019}}|</ref>}} {{increase}} 3,843,513 (2021) * {{increase}} 65.1% employment rate (2018)',\n",
       " 'occupations': '{{plainlist|\\n*[[Primary sector of the economy|agriculture]]: 0.7%\\n*[[Secondary sector of the economy|industry]]: 25.6%\\n*[[Tertiary sector of the economy|services]]: 73.7%\\n*(2017 est.)|ref| name=\"CIAWFSN\"|\\n*excludes non-residents}} *excludes non-residents',\n",
       " 'unemployment': '{{plainlist|\\n*|decreasePositive| 2.6% (2021 est.)|ref| name=IMFEMP|{{cite web|title= Summary Table: Unemployment|url= https://www.imf.org/en/Publications/WEO/weo-database/2020/October/weo-report?c=576,&s=LUR,LE,&sy=2018&ey=2025&ssm=0&scsm=1&scc=0&ssd=1&ssc=0&sic=0&sort=country&ds=.&br=1|publisher=IMF|access-date= 12 February 2021}}|</ref>}} {{decreasePositive}} 2.6% (2021 est.)',\n",
       " 'edbr': '{{steady}} [[Ease of doing business index#Ranking|2nd (very easy, 2020)]]',\n",
       " 'industries': '{{plainlist |\\n* [[Electronics]]  \\n* [[chemicals]]  \\n* [[financial services]] \\n* [[Oil well|oil-drilling equipment]]  \\n* [[petroleum refining]]  \\n* [[Biomedicine|biomedical products]]  \\n* [[scientific instruments]] \\n* telecommunications equipment \\n* rubber  \\n* food and [[beverages]]  \\n* [[ship repair]]  \\n* [[offshore construction]]  \\n* [[life sciences]]  \\n* [[re-exportation]]}}',\n",
       " 'exports': '{{increase}} US$942&nbsp;billion (2022)',\n",
       " 'export-goods': '{{Unbulleted list | [[Machinery]] and [[Tools|equipment]]| Electronics and telecommunications| [[Pharmaceuticals]] and other chemicals| [[Petroleum product|Refined petroleum products]]|Chemical products}}',\n",
       " 'export-partners': '{{Tree list}} * {{flag|United States}} 12.52%\\n* {{nowrap|flag|China| 12.08%}} ** {{flag|China}} 12.08% {{flag|Hong Kong}} 4.56%\\n* {{flag|Japan}} 10.34%\\n* {{flag|Australia}} 8.73%\\n*(2021) {{Tree list/end}}',\n",
       " 'imports': '{{Increase}} US$870&nbsp;billion (2022)',\n",
       " 'import-goods': '{{Unbulleted list| [[Machinery]] and [[Tools|equipment]]| [[Mineral fuels]]| [[Chemicals]]| [[Foodstuff]]s| [[Consumer goods]]}}',\n",
       " 'import-partners': '{{Tree list}} * {{flag|United States}} 22.43%\\n* {{nowrap|flag|China| 10.65%}} ** {{flag|China}} 10.65% {{flag|Hong Kong}} 4.53%\\n* {{flag|Japan}} 4.71%\\n* {{flag|United Kingdom}} 3.59%\\n*(2021) {{Tree list/end}}',\n",
       " 'FDI': '{{plainlist|\\n*|increase| $1.285&nbsp;trillion (31 December 2017 est.)|ref| name=\"CIAWFSN\"|\\n*|increase| Abroad: $841.4 billion (31 December 2017 est.)|ref| name=\"CIAWFSN\"}} {{increase}} $1.285&nbsp;trillion (31 December 2017 est.) * {{increase}} Abroad: $841.4 billion (31 December 2017 est.)',\n",
       " 'current account': '{{increase}} $60.99&nbsp;billion (2017 est.)',\n",
       " 'gross external debt': \"{{increaseNegative}} $566.1&nbsp;billion (31 December 2017 est.) {{efn|Singapore's public debt consists largely of Singapore Government Securities (SGS) issued to assist the Central Provident Fund (CPF), which administers Singapore's defined contribution pension fund; special issues of SGS are held by the CPF, and are non-tradable; the government has not borrowed to finance deficit expenditures since the 1980s; Singapore has no external public debt.}}\",\n",
       " 'NIIP': '[[Singapore dollar|S$]]738.811&nbsp;billion (Q1 2015)',\n",
       " 'debt': \"167.8% of GDP (2022 est.) {{efn|Singapore's public debt consists largely of Singapore Government Securities (SGS) issued to assist the Central Provident Fund (CPF), which administers Singapore's defined contribution pension fund; special issues of SGS are held by the CPF, and are non-tradable; the government has not borrowed to finance deficit expenditures since the 1980s; Singapore has no external public debt.}}\",\n",
       " 'revenue': '[[Singapore dollar|S$]]69.45&nbsp;billion (2017 est.)',\n",
       " 'expenses': '[[Singapore dollar|S$]]75.07&nbsp;billion (2017 est.)',\n",
       " 'reserves': '{{decrease}} [[United States dollar|US$]]291.274&nbsp;billion (November 2022)',\n",
       " 'credit': \"{{plainlist|\\n*[[Standard & Poor's]]:|ref|{{cite web |title=Sovereigns rating list |publisher=Standard & Poor's |url=http://www.standardandpoors.com/ratings/sovereigns/ratings-list/en/eu/?subSectorCode=39 |access-date=26 May 2011 |archive-url= https://web.archive.org/web/20110928234500/http://www.standardandpoors.com/ratings/sovereigns/ratings-list/en/eu/?subSectorCode=39 |archive-date= 28 September 2011 |url-status= live }}|</ref>|\\n*AAA (Domestic)\\n*AAA (Foreign)\\n*AAA (T&C Assessment)\\n*Outlook: Stable|ref| name=guardian|{{cite news |title= How Fitch, Moody's and S&P rate each country's credit rating |date= 15 April 2011 |first1= Simon |last1= Rogers |first2= Ami |last2= Sedghi |work= The Guardian |url= https://www.theguardian.com/news/datablog/2010/apr/30/credit-ratings-country-fitch-moodys-standard |access-date= 28 May 2011 |archive-url= https://web.archive.org/web/20130801105234/http://www.theguardian.com/news/datablog/2010/apr/30/credit-ratings-country-fitch-moodys-standard |archive-date= 1 August 2013 |url-status= live }}|</ref>|\\n*[[Moody's]]:|ref| name=guardian|\\n*Aaa\\n*Outlook: Stable\\n*[[Fitch Group|Fitch]]:|ref| name=guardian|\\n*AAA\\n*Outlook: Stable}} *AAA (Domestic)\\n*AAA (Foreign)\\n*AAA (T&C Assessment)\\n*Outlook: Stable *[[Moody's]]: *Aaa\\n*Outlook: Stable\\n*[[Fitch Group|Fitch]]: *AAA\\n*Outlook: Stable\",\n",
       " 'aid': 'N/A',\n",
       " 'cianame': 'singapore'}"
      ]
     },
     "execution_count": 8,
     "metadata": {},
     "output_type": "execute_result"
    }
   ],
   "source": [
    "oldpage = wptools.page('Economy_of_Singapore',oldid = 380271667).get_parse()\n",
    "infobox = oldpage.data['infobox']\n",
    "infobox"
   ]
  },
  {
   "cell_type": "code",
   "execution_count": null,
   "id": "a7d402d8",
   "metadata": {},
   "outputs": [],
   "source": []
  }
 ],
 "metadata": {
  "kernelspec": {
   "display_name": "Python 3",
   "language": "python",
   "name": "python3"
  },
  "language_info": {
   "codemirror_mode": {
    "name": "ipython",
    "version": 3
   },
   "file_extension": ".py",
   "mimetype": "text/x-python",
   "name": "python",
   "nbconvert_exporter": "python",
   "pygments_lexer": "ipython3",
   "version": "3.8.8"
  }
 },
 "nbformat": 4,
 "nbformat_minor": 5
}
